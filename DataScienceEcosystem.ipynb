{
  "metadata": {
    "kernelspec": {
      "name": "python",
      "display_name": "Python (Pyodide)",
      "language": "python"
    },
    "language_info": {
      "codemirror_mode": {
        "name": "python",
        "version": 3
      },
      "file_extension": ".py",
      "mimetype": "text/x-python",
      "name": "python",
      "nbconvert_exporter": "python",
      "pygments_lexer": "ipython3",
      "version": "3.8"
    }
  },
  "nbformat_minor": 4,
  "nbformat": 4,
  "cells": [
    {
      "cell_type": "markdown",
      "source": "# Data Science Tools and Ecosystem",
      "metadata": {}
    },
    {
      "cell_type": "markdown",
      "source": " In this notebook Data Science Tools and Ecosystem are summarized",
      "metadata": {}
    },
    {
      "cell_type": "markdown",
      "source": "## Some of the popular languages that Data Scientists use are:\r\n\r\n1. Python\r\n2. R\r\n3. SQL\r\n4. Scala\r\n5. Java\r\n6. C++\r\n7. Julia\r\n8. JavaScript\r\n9. PHP\r\n10. Go \r\n11. Ruby\r\n12. Visual Basic\r\nual Basic",
      "metadata": {}
    },
    {
      "cell_type": "markdown",
      "source": "## Some of the commonly used libraries used by Data Scientists include:\r\n\r\n1. Pandas\r\n2. Numpy\r\n3. Matplotlib\r\n4. Seaborn\r\n5. Scikit-learn\r\n6. Keras\r\n7. TensorFlow\r\n8. PyTorch\r\n9. Apache Spark\r\n10. Plotly\r\n11. BigDL\r\n12. Ggplot2\r\n",
      "metadata": {}
    },
    {
      "cell_type": "markdown",
      "source": "## Data Science Tools\r\n\r\n| Tool               |\r\n|--------------------|\r\n| Anaconda           |\r\n| Jupyter Notebooks  |\r\n| RStudio            |\r\n| Spyder             |\r\n| Zeppelin           |\r\npelin\r\n",
      "metadata": {}
    },
    {
      "cell_type": "markdown",
      "source": "### Below are a few examples of evaluating arithmetic expressions in Python",
      "metadata": {}
    },
    {
      "cell_type": "code",
      "source": "# This a simple arithmetic expression to mutiply then add integers.\nprint((3*4)+5)\na=10\nb=6\nprint(a+b)\nprint(a*b)",
      "metadata": {
        "trusted": true
      },
      "outputs": [
        {
          "name": "stdout",
          "text": "17\n16\n60\n",
          "output_type": "stream"
        }
      ],
      "execution_count": 7
    },
    {
      "cell_type": "code",
      "source": "# This will convert 200 minutes to hours by diving by 60\nminutes=200\nhrs=200/60\nprint(hrs)\n",
      "metadata": {
        "trusted": true
      },
      "outputs": [
        {
          "name": "stdout",
          "text": "3.3333333333333335\n",
          "output_type": "stream"
        }
      ],
      "execution_count": 8
    },
    {
      "cell_type": "markdown",
      "source": "### Objective:\r\n\r\n- **Add comments to code cells**\r\n  - Comments in code cells are essential for explaining the functionality of the code.\r\n  - Use `#` in Python for single-line comments.\r\n\r\n- **Create markdown cells**\r\n  - Markdown cells can be created in Jupyter Notebooks by selecting the cell type as \"Markdown\" from the toolbar.\r\n  - Alternatively, use the keyboard shortcut `Esc + M`.\r\n\r\n- **Add ordered and unordered lists to markdown cells**\r\n  - *Ordered List:*\r\n    1. First item\r\n    2. Second item\r\n    3. Third item\r\n\r\n  - *Unordered List:*\r\n    - Item A\r\n    - Item B\r\n    - Item C\r\n\r\n- **Format content of markdown cells with heading styles**\r\n  - Use `#` for headings. The number of `#` symbols indicates the heading level.\r\n    - `# Heading 1`\r\n    - `## Heading 2`\r\n    - `### Heading 3`\r\n\r\n  - Additional formatting:\r\n    - **Bold Text:** `**Bold Text**` or `__Bold Text__`\r\n    - *Italic Text:* `*Italic Text*` or `_Italic Text_`\r\n    - [Hyperlinks](http://example.com): `[Hyperlinks](http://example.com)`\r\n",
      "metadata": {}
    },
    {
      "cell_type": "markdown",
      "source": "# **Author**:\n- ### **Darunesh.R**\n",
      "metadata": {}
    },
    {
      "cell_type": "code",
      "source": "",
      "metadata": {
        "trusted": true
      },
      "outputs": [],
      "execution_count": null
    }
  ]
}